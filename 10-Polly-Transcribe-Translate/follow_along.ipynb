{
 "cells": [
  {
   "cell_type": "code",
   "execution_count": null,
   "id": "dc76e640",
   "metadata": {},
   "outputs": [],
   "source": [
    "import boto3"
   ]
  },
  {
   "cell_type": "code",
   "execution_count": null,
   "id": "83f23c8d",
   "metadata": {},
   "outputs": [],
   "source": [
    "polly_client = boto3.client('polly', region_name='us-east-1')"
   ]
  },
  {
   "cell_type": "code",
   "execution_count": null,
   "id": "31765f4e",
   "metadata": {},
   "outputs": [],
   "source": [
    "text = 'Hello everyone, I hope you are enjoying the course.'"
   ]
  },
  {
   "cell_type": "code",
   "execution_count": null,
   "id": "12a28e49",
   "metadata": {},
   "outputs": [],
   "source": [
    "response = polly_client.synthesize_speech(Engine='neural',\n",
    "                                        Text=text,\n",
    "                                        OutputFormat='mp3',\n",
    "                                        VoiceId='Matthew')"
   ]
  },
  {
   "cell_type": "code",
   "execution_count": null,
   "id": "6ffdec31",
   "metadata": {},
   "outputs": [],
   "source": [
    "with open('speech.mp3', 'wb') as file:\n",
    "    file.write(response['AudioStream'].read())"
   ]
  },
  {
   "cell_type": "code",
   "execution_count": null,
   "id": "c588bb08",
   "metadata": {},
   "outputs": [],
   "source": [
    "client = boto3.client('s3', region_name='ap-east-1')\n",
    "client.create_bucket(Bucket='demo-bucket-transcription-sp', CreateBucketConfiguration={'LocationConstraint': 'ap-east-1'})"
   ]
  },
  {
   "cell_type": "code",
   "execution_count": null,
   "id": "2f05d90a",
   "metadata": {},
   "outputs": [],
   "source": [
    "client.upload_file(Filename='speech.mp3', Bucket='demo-bucket-transcription-sp', Key='speech.mp3')"
   ]
  },
  {
   "cell_type": "code",
   "execution_count": null,
   "id": "6fac925c",
   "metadata": {},
   "outputs": [],
   "source": [
    "transcribe_client = boto3.client('transcribe', region_name='ap-east-1')\n",
    "job_name = 'TranscribeJobCourse'\n",
    "\n",
    "transcribe_client.start_transcription_job(TranscriptionJobName=job_name,\n",
    "                                         Media={'MediaFileUri': 's3://demo-bucket-transcription-sp/speech.mp3'},\n",
    "                                               MediaFormat='mp3',\n",
    "                                               LanguageCode='en-US'\n",
    "                                         )"
   ]
  },
  {
   "cell_type": "code",
   "execution_count": null,
   "id": "0639edfd",
   "metadata": {},
   "outputs": [],
   "source": [
    "import time\n",
    "\n",
    "while True:\n",
    "    \n",
    "    status = transcribe_client.get_transcription_job(TranscriptionJobName=job_name)\n",
    "    if status['TranscriptionJob']['TranscriptionJobStatus'] in ['COMPLETED', 'FAILED']:\n",
    "        break\n",
    "    print('Still working on transcription')\n",
    "    time.sleep(5)\n",
    "print(status)"
   ]
  },
  {
   "cell_type": "code",
   "execution_count": null,
   "id": "5f238bb1",
   "metadata": {},
   "outputs": [],
   "source": [
    "import requests\n",
    "\n",
    "response = requests.get(status['TranscriptionJob']['Transcript']['TranscriptFileUri'])\n",
    "with open('transcribed.json', 'wb') as file:\n",
    "    file.write(response.content)"
   ]
  },
  {
   "cell_type": "code",
   "execution_count": null,
   "id": "4f260b0a",
   "metadata": {},
   "outputs": [],
   "source": [
    "import json\n",
    "with open('transcribed.json', 'r') as file:\n",
    "    data = json.load(file)"
   ]
  },
  {
   "cell_type": "code",
   "execution_count": null,
   "id": "cc57660c",
   "metadata": {},
   "outputs": [],
   "source": [
    "full_text = data['results']['transcripts'][0]['transcript']"
   ]
  },
  {
   "cell_type": "code",
   "execution_count": null,
   "id": "7af9ef22",
   "metadata": {},
   "outputs": [],
   "source": [
    "full_text"
   ]
  },
  {
   "cell_type": "code",
   "execution_count": null,
   "id": "d1d0f1f3",
   "metadata": {},
   "outputs": [],
   "source": [
    "transcribe_client.delete_transcription_job(TranscriptionJobName=job_name)"
   ]
  },
  {
   "cell_type": "code",
   "execution_count": null,
   "id": "947812bb",
   "metadata": {},
   "outputs": [],
   "source": [
    "translate = boto3.client('translate', region_name='ap-east-1')\n",
    "response = translate.translate_text(Text=full_text,\n",
    "                                   SourceLanguageCode='en',\n",
    "                                   TargetLanguageCode='es-MX')"
   ]
  },
  {
   "cell_type": "code",
   "execution_count": null,
   "id": "751778c5",
   "metadata": {},
   "outputs": [],
   "source": [
    "response"
   ]
  },
  {
   "cell_type": "code",
   "execution_count": null,
   "id": "2080e559",
   "metadata": {},
   "outputs": [],
   "source": []
  }
 ],
 "metadata": {
  "kernelspec": {
   "display_name": "Python 3 (ipykernel)",
   "language": "python",
   "name": "python3"
  },
  "language_info": {
   "codemirror_mode": {
    "name": "ipython",
    "version": 3
   },
   "file_extension": ".py",
   "mimetype": "text/x-python",
   "name": "python",
   "nbconvert_exporter": "python",
   "pygments_lexer": "ipython3",
   "version": "3.11.5"
  }
 },
 "nbformat": 4,
 "nbformat_minor": 5
}
