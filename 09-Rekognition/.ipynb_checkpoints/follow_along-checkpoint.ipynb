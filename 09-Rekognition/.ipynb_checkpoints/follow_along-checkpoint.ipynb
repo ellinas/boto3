{
 "cells": [
  {
   "cell_type": "code",
   "execution_count": null,
   "id": "96d5ec6e",
   "metadata": {},
   "outputs": [],
   "source": [
    "from PIL import Image\n",
    "image_path = 'cat.jpeg'\n",
    "image = Image.open(image_path)\n",
    "image"
   ]
  },
  {
   "cell_type": "code",
   "execution_count": null,
   "id": "f9ea4626",
   "metadata": {},
   "outputs": [],
   "source": [
    "import boto3\n",
    "client = boto3.client('rekognition', region_name='us-east-1')"
   ]
  },
  {
   "cell_type": "code",
   "execution_count": null,
   "id": "060be299",
   "metadata": {},
   "outputs": [],
   "source": [
    "with open('cat.jpeg', 'rb') as img:\n",
    "    response = client.detect_labels(Image={'Bytes':img.read()})"
   ]
  },
  {
   "cell_type": "code",
   "execution_count": null,
   "id": "b361583c",
   "metadata": {},
   "outputs": [],
   "source": [
    "response"
   ]
  },
  {
   "cell_type": "code",
   "execution_count": null,
   "id": "3e6a9eee",
   "metadata": {},
   "outputs": [],
   "source": [
    "import matplotlib.pyplot as plt\n",
    "from matplotlib.patches import Rectangle"
   ]
  },
  {
   "cell_type": "code",
   "execution_count": null,
   "id": "3a529b2f",
   "metadata": {},
   "outputs": [],
   "source": [
    "bbox_coords = response['Labels'][2]['Instances'][0]['BoundingBox']"
   ]
  },
  {
   "cell_type": "code",
   "execution_count": null,
   "id": "a6a0e9e4",
   "metadata": {},
   "outputs": [],
   "source": [
    "fig, axis = plt.subplots()\n",
    "axis.imshow(image)\n",
    "width = bbox_coords['Width']*image.width\n",
    "height = bbox_coords['Height']*image.height\n",
    "left = bbox_coords['Left']*image.width\n",
    "top = bbox_coords['Top']*image.height\n",
    "\n",
    "rect = Rectangle((left, top), width, height, linewidth=2, edgecolor='red', facecolor='none')\n",
    "axis.add_patch(rect)\n",
    "plt.show"
   ]
  },
  {
   "cell_type": "code",
   "execution_count": null,
   "id": "f1b172c4",
   "metadata": {},
   "outputs": [],
   "source": [
    "Image.open('salk.jpeg')"
   ]
  },
  {
   "cell_type": "code",
   "execution_count": null,
   "id": "8a7fe7e1",
   "metadata": {},
   "outputs": [],
   "source": [
    "with open('salk.jpeg', 'rb') as img:\n",
    "    response = client.detect_faces(Image={'Bytes': img.read()})"
   ]
  },
  {
   "cell_type": "code",
   "execution_count": null,
   "id": "fbf4574b",
   "metadata": {},
   "outputs": [],
   "source": [
    "response"
   ]
  },
  {
   "cell_type": "code",
   "execution_count": null,
   "id": "91fe2e12",
   "metadata": {},
   "outputs": [],
   "source": [
    "fig, axis = plt.subplots()\n",
    "image = Image.open('salk.jpeg')\n",
    "axis.imshow(image, cmap='gray')\n",
    "bbox_coords = response['FaceDetails'][0]['BoundingBox']\n",
    "width = bbox_coords['Width']*image.width\n",
    "height = bbox_coords['Height']*image.height\n",
    "left = bbox_coords['Left']*image.width\n",
    "top = bbox_coords['Top']*image.height\n",
    "\n",
    "rect = Rectangle((left, top), width, height, linewidth=2, edgecolor='red', facecolor='none')\n",
    "axis.add_patch(rect)\n",
    "plt.show()"
   ]
  },
  {
   "cell_type": "code",
   "execution_count": null,
   "id": "59fd103c",
   "metadata": {},
   "outputs": [],
   "source": [
    "with open('text.png', 'rb') as img:\n",
    "    response = client.detect_text(Image={'Bytes':img.read()})"
   ]
  },
  {
   "cell_type": "code",
   "execution_count": null,
   "id": "87aa7593",
   "metadata": {},
   "outputs": [],
   "source": [
    "response"
   ]
  },
  {
   "cell_type": "code",
   "execution_count": null,
   "id": "74f829f4",
   "metadata": {},
   "outputs": [],
   "source": [
    "with open('beer.jpeg', 'rb') as img:\n",
    "    response = client.detect_moderation_labels(Image={'Bytes': img.read()})"
   ]
  },
  {
   "cell_type": "code",
   "execution_count": null,
   "id": "e1823815",
   "metadata": {},
   "outputs": [],
   "source": [
    "response"
   ]
  },
  {
   "cell_type": "code",
   "execution_count": null,
   "id": "de79ee24",
   "metadata": {},
   "outputs": [],
   "source": []
  }
 ],
 "metadata": {
  "kernelspec": {
   "display_name": "Python 3 (ipykernel)",
   "language": "python",
   "name": "python3"
  },
  "language_info": {
   "codemirror_mode": {
    "name": "ipython",
    "version": 3
   },
   "file_extension": ".py",
   "mimetype": "text/x-python",
   "name": "python",
   "nbconvert_exporter": "python",
   "pygments_lexer": "ipython3",
   "version": "3.11.5"
  }
 },
 "nbformat": 4,
 "nbformat_minor": 5
}
