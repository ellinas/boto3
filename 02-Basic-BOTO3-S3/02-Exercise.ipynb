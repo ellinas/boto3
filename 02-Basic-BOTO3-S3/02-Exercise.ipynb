{
 "cells": [
  {
   "cell_type": "markdown",
   "id": "4a21a83e-69f8-47d6-9e80-b72fb0bde069",
   "metadata": {},
   "source": [
    "![https://pieriantraining.com/](../PTCenteredPurple.png)"
   ]
  },
  {
   "cell_type": "code",
   "execution_count": null,
   "id": "611c00bc-4848-4277-a011-6798be3ed179",
   "metadata": {},
   "outputs": [],
   "source": [
    "import boto3\n",
    "bucketName = 'testbucket-02-sp'\n",
    "regionName = 'ap-east-1'\n",
    "fileName = 'bob.txt'\n",
    "keyName = 'test123'"
   ]
  },
  {
   "cell_type": "markdown",
   "id": "637b7f4d-8b5c-4ea1-903a-b37f67c65ad5",
   "metadata": {},
   "source": [
    "**Task 1**: List all buckets"
   ]
  },
  {
   "cell_type": "code",
   "execution_count": null,
   "id": "986236e7-8921-4635-a18b-96acca7c1c4a",
   "metadata": {},
   "outputs": [],
   "source": [
    "s3 = boto3.resource('s3')\n",
    "list(s3.buckets.all())"
   ]
  },
  {
   "cell_type": "markdown",
   "id": "c036dcbc-b14a-4b2b-aeda-26bc1f774364",
   "metadata": {},
   "source": [
    "**Task 2:** Create a new bucket of your choice"
   ]
  },
  {
   "cell_type": "code",
   "execution_count": null,
   "id": "07e01757-e245-42ca-9d34-4fe0c28d9032",
   "metadata": {},
   "outputs": [],
   "source": [
    "s3.create_bucket(Bucket=f'{bucketName}',\n",
    "                CreateBucketConfiguration={'LocationConstraint': f'{regionName}'})"
   ]
  },
  {
   "cell_type": "markdown",
   "id": "54f4dff0-a89b-485d-893c-e616cbd14bae",
   "metadata": {},
   "source": [
    "**Task 3:** Create a text file and upload it to your bucket"
   ]
  },
  {
   "cell_type": "code",
   "execution_count": null,
   "id": "f8881aaf-2757-42dd-a049-258b37d9349b",
   "metadata": {},
   "outputs": [],
   "source": [
    "bucket = s3.Bucket(name=f'{bucketName}')\n",
    "with open(f'{fileName}','w') as file:\n",
    "    file.write('Test 123.')\n",
    "bucket.upload_file(Filename=f'{fileName}',\n",
    "                  Key=f'{keyName}')"
   ]
  },
  {
   "cell_type": "markdown",
   "id": "b7a02129-4564-40d8-88d6-efeaea763d39",
   "metadata": {},
   "source": [
    "**Task 4:** List all objects in your bucket"
   ]
  },
  {
   "cell_type": "code",
   "execution_count": null,
   "id": "cc9dbdee-21f9-4d45-9ce0-69de59d4309d",
   "metadata": {},
   "outputs": [],
   "source": [
    "list(bucket.objects.all())\n",
    "# for file in bucket.objects.all():\n",
    "#     print(file.key)"
   ]
  },
  {
   "cell_type": "markdown",
   "id": "5b0ffa3d-cb12-45ca-8027-c7227db43c69",
   "metadata": {},
   "source": [
    "**Task 5:** Create a URL so your friend can download the file within the next 5 minutes"
   ]
  },
  {
   "cell_type": "code",
   "execution_count": null,
   "id": "1a9c23cc-1dd0-4156-823b-192b571a3fb1",
   "metadata": {},
   "outputs": [],
   "source": [
    "client = boto3.client('s3', \n",
    "                      region_name=f'{regionName}',\n",
    "                     config=boto3.session.Config(s3={'addressing_style': 'virtual'}))\n",
    "url = client.generate_presigned_url(ClientMethod='get_object',\n",
    "                                   Params={'Bucket': f'{bucketName}',\n",
    "                                          'Key': f'{keyName}'},\n",
    "                                    ExpiresIn=300)\n",
    "url"
   ]
  },
  {
   "cell_type": "markdown",
   "id": "4b0d407a-89ff-4309-8217-fecd267515ea",
   "metadata": {},
   "source": [
    "**Task 6:** Download the objects and delete it after"
   ]
  },
  {
   "cell_type": "code",
   "execution_count": null,
   "id": "230cf5f0-04bf-42ec-bee2-58ef6e968956",
   "metadata": {},
   "outputs": [],
   "source": [
    "bucket.download_file(Filename=f'{fileName}',\n",
    "                    Key=f'{keyName}')\n",
    "bucket.delete_objects(Delete={'Objects':[{'Key': f'{keyName}'}]})"
   ]
  },
  {
   "cell_type": "markdown",
   "id": "7dee44a0-e3d3-4bac-87b3-ef37d5ff4dd6",
   "metadata": {},
   "source": [
    "**Task 7:** Delete the bucket"
   ]
  },
  {
   "cell_type": "code",
   "execution_count": null,
   "id": "39f50bdd",
   "metadata": {
    "scrolled": true
   },
   "outputs": [],
   "source": [
    "bucket.objects.all().delete()\n",
    "bucket.delete()"
   ]
  }
 ],
 "metadata": {
  "kernelspec": {
   "display_name": "Python 3 (ipykernel)",
   "language": "python",
   "name": "python3"
  },
  "language_info": {
   "codemirror_mode": {
    "name": "ipython",
    "version": 3
   },
   "file_extension": ".py",
   "mimetype": "text/x-python",
   "name": "python",
   "nbconvert_exporter": "python",
   "pygments_lexer": "ipython3",
   "version": "3.11.5"
  }
 },
 "nbformat": 4,
 "nbformat_minor": 5
}
