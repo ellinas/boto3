{
 "cells": [
  {
   "cell_type": "code",
   "execution_count": null,
   "id": "c0d69e99",
   "metadata": {},
   "outputs": [],
   "source": [
    "import boto3"
   ]
  },
  {
   "cell_type": "code",
   "execution_count": null,
   "id": "68403184",
   "metadata": {},
   "outputs": [],
   "source": [
    "client = boto3.client('s3', \n",
    "                      region_name='ap-east-1',\n",
    "                     config=boto3.session.Config(s3={'addressing_style': 'virtual'}))"
   ]
  },
  {
   "cell_type": "code",
   "execution_count": null,
   "id": "f13e7284",
   "metadata": {},
   "outputs": [],
   "source": [
    "client.create_bucket(Bucket='my-first-bucket-sp-789', \n",
    "                     CreateBucketConfiguration={'LocationConstraint': 'ap-east-1'})"
   ]
  },
  {
   "cell_type": "code",
   "execution_count": null,
   "id": "073a4534",
   "metadata": {},
   "outputs": [],
   "source": [
    "with open('myfile.txt','w') as file:\n",
    "    file.write('This is a text file for upload.')"
   ]
  },
  {
   "cell_type": "code",
   "execution_count": null,
   "id": "1577fd32",
   "metadata": {},
   "outputs": [],
   "source": [
    "client.upload_file(Filename='myfile.txt',\n",
    "                   Bucket='my-first-bucket-sp-789',\n",
    "                   Key='test-upload-file')"
   ]
  },
  {
   "cell_type": "code",
   "execution_count": null,
   "id": "55d5c7d1",
   "metadata": {},
   "outputs": [],
   "source": [
    "client.download_file(Bucket='my-first-bucket-sp-789',\n",
    "                    Key='test-upload-file',\n",
    "                    Filename='my_local_download.txt')"
   ]
  },
  {
   "cell_type": "code",
   "execution_count": null,
   "id": "d1f2c251",
   "metadata": {},
   "outputs": [],
   "source": [
    "with open('my_local_download.txt', 'r') as f:\n",
    "    print(f.read())"
   ]
  },
  {
   "cell_type": "code",
   "execution_count": null,
   "id": "dfe2db02",
   "metadata": {},
   "outputs": [],
   "source": [
    "client.delete_object(Bucket='my-first-bucket-sp-789',\n",
    "                    Key='test-upload-file')"
   ]
  },
  {
   "cell_type": "code",
   "execution_count": null,
   "id": "ad5b4163",
   "metadata": {},
   "outputs": [],
   "source": [
    "client.list_buckets()"
   ]
  },
  {
   "cell_type": "code",
   "execution_count": null,
   "id": "14c78b3e",
   "metadata": {},
   "outputs": [],
   "source": [
    "s3 = boto3.resource('s3')"
   ]
  },
  {
   "cell_type": "code",
   "execution_count": null,
   "id": "297a8b5e",
   "metadata": {},
   "outputs": [],
   "source": [
    "# s3.create_bucket('')\n",
    "bucket = s3.Bucket(name='my-first-bucket-sp-789')"
   ]
  },
  {
   "cell_type": "code",
   "execution_count": null,
   "id": "6363b2f8",
   "metadata": {},
   "outputs": [],
   "source": [
    "list(s3.buckets.all())"
   ]
  },
  {
   "cell_type": "code",
   "execution_count": null,
   "id": "2dc9f7ba",
   "metadata": {},
   "outputs": [],
   "source": [
    "bucket.upload_file(Filename='myfile.txt',\n",
    "                  Key='new_upload')"
   ]
  },
  {
   "cell_type": "code",
   "execution_count": null,
   "id": "8a016c86",
   "metadata": {},
   "outputs": [],
   "source": [
    "list(bucket.objects.all())"
   ]
  },
  {
   "cell_type": "code",
   "execution_count": null,
   "id": "106eefb2",
   "metadata": {},
   "outputs": [],
   "source": [
    "bucket.download_file(Filename='some_new_download.txt',\n",
    "                    Key='new_upload')"
   ]
  },
  {
   "cell_type": "code",
   "execution_count": null,
   "id": "f1527bc8",
   "metadata": {},
   "outputs": [],
   "source": [
    "with open('some_new_download.txt', 'r') as f:\n",
    "    print(f.read())"
   ]
  },
  {
   "cell_type": "code",
   "execution_count": null,
   "id": "2c4676bb",
   "metadata": {},
   "outputs": [],
   "source": [
    "list(bucket.objects.filter(Prefix='bob'))"
   ]
  },
  {
   "cell_type": "code",
   "execution_count": null,
   "id": "2247435a",
   "metadata": {},
   "outputs": [],
   "source": [
    "s3 = boto3.client('s3', region_name='ap-east-1')"
   ]
  },
  {
   "cell_type": "code",
   "execution_count": null,
   "id": "52e187af",
   "metadata": {},
   "outputs": [],
   "source": [
    "paginator = s3.get_paginator('list_objects_v2')"
   ]
  },
  {
   "cell_type": "code",
   "execution_count": null,
   "id": "384ff8b0",
   "metadata": {},
   "outputs": [],
   "source": [
    "results = paginator.paginate(Bucket=bucket.name)"
   ]
  },
  {
   "cell_type": "code",
   "execution_count": null,
   "id": "6bd651a7",
   "metadata": {},
   "outputs": [],
   "source": [
    "bucket.name"
   ]
  },
  {
   "cell_type": "code",
   "execution_count": null,
   "id": "07cb170d",
   "metadata": {},
   "outputs": [],
   "source": [
    "list(results)"
   ]
  },
  {
   "cell_type": "code",
   "execution_count": null,
   "id": "d8e43af4",
   "metadata": {},
   "outputs": [],
   "source": [
    "type(results)"
   ]
  },
  {
   "cell_type": "code",
   "execution_count": null,
   "id": "8b178f83",
   "metadata": {},
   "outputs": [],
   "source": [
    "for item in results.search('Contents'):\n",
    "    print(item['Key'])"
   ]
  },
  {
   "cell_type": "code",
   "execution_count": null,
   "id": "896b1504",
   "metadata": {},
   "outputs": [],
   "source": [
    "bucket_name = 'super-duper-new-bucket-789'"
   ]
  },
  {
   "cell_type": "code",
   "execution_count": null,
   "id": "31ca3a0d",
   "metadata": {},
   "outputs": [],
   "source": [
    "waiter = s3.get_waiter('bucket_exists')"
   ]
  },
  {
   "cell_type": "code",
   "execution_count": null,
   "id": "93f9fe1a",
   "metadata": {},
   "outputs": [],
   "source": [
    "wait_config = {'Delay': 10,'MaxAttempts': 40}"
   ]
  },
  {
   "cell_type": "code",
   "execution_count": null,
   "id": "c9d3fc54",
   "metadata": {},
   "outputs": [],
   "source": [
    "print(f'WAITING FOR THE BUCKET: {bucket_name}')\n",
    "waiter.wait(Bucket=bucket_name,WaiterConfig=wait_config)\n",
    "print(f'THE BUCKET HAS BEEN MADE')"
   ]
  },
  {
   "cell_type": "code",
   "execution_count": null,
   "id": "2db0f7f2",
   "metadata": {},
   "outputs": [],
   "source": [
    "client.get_bucket_encryption(Bucket='super-duper-new-bucket-789')"
   ]
  },
  {
   "cell_type": "code",
   "execution_count": null,
   "id": "51aaea76",
   "metadata": {},
   "outputs": [],
   "source": [
    "url = client.generate_presigned_url(ClientMethod='get_object',\n",
    "                                   Params={'Bucket': 'my-first-bucket-sp-789',\n",
    "                                          'Key': 'new_upload'},\n",
    "                                    ExpiresIn=120)"
   ]
  },
  {
   "cell_type": "code",
   "execution_count": null,
   "id": "4bddc805",
   "metadata": {},
   "outputs": [],
   "source": [
    "url"
   ]
  },
  {
   "cell_type": "code",
   "execution_count": null,
   "id": "c2396cba",
   "metadata": {},
   "outputs": [],
   "source": [
    "client.delete_bucket(Bucket='my-first-bucket-sp-789')"
   ]
  },
  {
   "cell_type": "code",
   "execution_count": null,
   "id": "e6731843",
   "metadata": {},
   "outputs": [],
   "source": [
    "s3 = boto3.resource('s3')\n",
    "bucket = s3.Bucket('my-first-bucket-sp-789')"
   ]
  },
  {
   "cell_type": "code",
   "execution_count": null,
   "id": "586d2cc5",
   "metadata": {},
   "outputs": [],
   "source": [
    "bucket.objects.all().delete()"
   ]
  },
  {
   "cell_type": "code",
   "execution_count": null,
   "id": "d6c8b5d0",
   "metadata": {},
   "outputs": [],
   "source": [
    "client.delete_bucket(Bucket='my-first-bucket-sp-789')"
   ]
  },
  {
   "cell_type": "code",
   "execution_count": null,
   "id": "54d87e00",
   "metadata": {},
   "outputs": [],
   "source": []
  }
 ],
 "metadata": {
  "kernelspec": {
   "display_name": "Python 3 (ipykernel)",
   "language": "python",
   "name": "python3"
  },
  "language_info": {
   "codemirror_mode": {
    "name": "ipython",
    "version": 3
   },
   "file_extension": ".py",
   "mimetype": "text/x-python",
   "name": "python",
   "nbconvert_exporter": "python",
   "pygments_lexer": "ipython3",
   "version": "3.11.5"
  }
 },
 "nbformat": 4,
 "nbformat_minor": 5
}
