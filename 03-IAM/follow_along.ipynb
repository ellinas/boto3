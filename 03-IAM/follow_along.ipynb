{
 "cells": [
  {
   "cell_type": "code",
   "execution_count": null,
   "id": "140fb2fc",
   "metadata": {},
   "outputs": [],
   "source": [
    "import boto3"
   ]
  },
  {
   "cell_type": "code",
   "execution_count": null,
   "id": "39dda6d6",
   "metadata": {},
   "outputs": [],
   "source": [
    "iam_client = boto3.client('iam')"
   ]
  },
  {
   "cell_type": "code",
   "execution_count": null,
   "id": "900301a2",
   "metadata": {},
   "outputs": [],
   "source": [
    "result = iam_client.list_users()"
   ]
  },
  {
   "cell_type": "code",
   "execution_count": null,
   "id": "b1f735cc",
   "metadata": {},
   "outputs": [],
   "source": [
    "result['Users'][0]"
   ]
  },
  {
   "cell_type": "code",
   "execution_count": null,
   "id": "7ba5db32",
   "metadata": {},
   "outputs": [],
   "source": [
    "iam_client.list_groups()"
   ]
  },
  {
   "cell_type": "code",
   "execution_count": null,
   "id": "b18f6ece",
   "metadata": {},
   "outputs": [],
   "source": [
    "response = iam_client.create_user(UserName='new-system-user')"
   ]
  },
  {
   "cell_type": "code",
   "execution_count": null,
   "id": "c638478f",
   "metadata": {},
   "outputs": [],
   "source": [
    "response"
   ]
  },
  {
   "cell_type": "code",
   "execution_count": null,
   "id": "519939fc",
   "metadata": {},
   "outputs": [],
   "source": [
    "result = iam_client.add_user_to_group(UserName='new-system-user',\n",
    "                                     GroupName='bob')"
   ]
  },
  {
   "cell_type": "code",
   "execution_count": null,
   "id": "2070b0a0",
   "metadata": {},
   "outputs": [],
   "source": [
    "iam_client.delete_user(UserName='new-system-user')"
   ]
  },
  {
   "cell_type": "code",
   "execution_count": null,
   "id": "65d20dd2",
   "metadata": {},
   "outputs": [],
   "source": [
    "iam_client.remove_user_from_group(UserName='new-system-user',\n",
    "                                 GroupName='bob')"
   ]
  },
  {
   "cell_type": "code",
   "execution_count": null,
   "id": "19476b05",
   "metadata": {},
   "outputs": [],
   "source": []
  }
 ],
 "metadata": {
  "kernelspec": {
   "display_name": "Python 3 (ipykernel)",
   "language": "python",
   "name": "python3"
  },
  "language_info": {
   "codemirror_mode": {
    "name": "ipython",
    "version": 3
   },
   "file_extension": ".py",
   "mimetype": "text/x-python",
   "name": "python",
   "nbconvert_exporter": "python",
   "pygments_lexer": "ipython3",
   "version": "3.11.5"
  }
 },
 "nbformat": 4,
 "nbformat_minor": 5
}
