{
 "cells": [
  {
   "cell_type": "code",
   "execution_count": null,
   "id": "cbe4ab7d",
   "metadata": {},
   "outputs": [],
   "source": [
    "import boto3"
   ]
  },
  {
   "cell_type": "code",
   "execution_count": null,
   "id": "8682ed51",
   "metadata": {},
   "outputs": [],
   "source": [
    "client = boto3.client('ce')"
   ]
  },
  {
   "cell_type": "code",
   "execution_count": null,
   "id": "a7426a78",
   "metadata": {},
   "outputs": [],
   "source": [
    "# START\n",
    "from datetime import datetime, timedelta\n",
    "start_date = (datetime.now() - timedelta(days=90)).strftime('%Y-%m-%d')"
   ]
  },
  {
   "cell_type": "code",
   "execution_count": null,
   "id": "92de17f4",
   "metadata": {},
   "outputs": [],
   "source": [
    "# CE start-date --> end_date\n",
    "end_date = datetime.now().strftime('%Y-%m-%d')"
   ]
  },
  {
   "cell_type": "code",
   "execution_count": null,
   "id": "ab92e464",
   "metadata": {},
   "outputs": [],
   "source": [
    "response = client.get_cost_and_usage(TimePeriod={\n",
    "    'Start':start_date,\n",
    "    'End':end_date\n",
    "},Granularity='MONTHLY',Metrics=['UnblendedCost','UsageQuantity'])"
   ]
  },
  {
   "cell_type": "code",
   "execution_count": null,
   "id": "d61646cb",
   "metadata": {},
   "outputs": [],
   "source": [
    "for item in response['ResultsByTime']:\n",
    "    print (item['TimePeriod'])\n",
    "    print(item['Total']['UnblendedCost'])\n",
    "    print('\\n\\n')"
   ]
  },
  {
   "cell_type": "code",
   "execution_count": null,
   "id": "5d55151b",
   "metadata": {},
   "outputs": [],
   "source": [
    "response = client.get_dimension_values(TimePeriod={\n",
    "    'Start':start_date,\n",
    "    'End':end_date},\n",
    "    Dimension='SERVICE')"
   ]
  },
  {
   "cell_type": "code",
   "execution_count": null,
   "id": "2915cf3e",
   "metadata": {},
   "outputs": [],
   "source": [
    "for service in response['DimensionValues']:\n",
    "    print(service['Value'])"
   ]
  },
  {
   "cell_type": "code",
   "execution_count": null,
   "id": "46459df7",
   "metadata": {},
   "outputs": [],
   "source": [
    "response = client.get_cost_and_usage(\n",
    "                TimePeriod={'Start':start_date,\n",
    "                            'End':end_date},\n",
    "                Granularity='MONTHLY',\n",
    "                Metrics=['UnblendedCost'],\n",
    "                GroupBy=[\n",
    "                    {\n",
    "                        'Type':'DIMENSION',\n",
    "                        'Key':'SERVICE'\n",
    "                    }\n",
    "                ]                            \n",
    ")"
   ]
  },
  {
   "cell_type": "code",
   "execution_count": null,
   "id": "d4eba508",
   "metadata": {},
   "outputs": [],
   "source": [
    "for item in response['ResultsByTime']:\n",
    "    print(item['TimePeriod'])\n",
    "    print('\\n')\n",
    "    for group in item['Groups']:\n",
    "        service_name = group['Keys'][0]\n",
    "        cost = group['Metrics']['UnblendedCost']['Amount']\n",
    "        print(f\"{service_name}: ${cost}\")\n",
    "    print('\\n\\n\\n')"
   ]
  },
  {
   "cell_type": "code",
   "execution_count": null,
   "id": "517205e4",
   "metadata": {},
   "outputs": [],
   "source": [
    "start_date = (datetime.now()+timedelta(days=1)).strftime('%Y-%m-%d')\n",
    "end_date = (datetime.now()+timedelta(days=31)).strftime('%Y-%m-%d')"
   ]
  },
  {
   "cell_type": "code",
   "execution_count": null,
   "id": "8112fe27",
   "metadata": {},
   "outputs": [],
   "source": [
    "start_date"
   ]
  },
  {
   "cell_type": "code",
   "execution_count": null,
   "id": "755bab83",
   "metadata": {},
   "outputs": [],
   "source": [
    "end_date"
   ]
  },
  {
   "cell_type": "code",
   "execution_count": null,
   "id": "95066766",
   "metadata": {},
   "outputs": [],
   "source": [
    "result = client.get_cost_forecast(TimePeriod={\n",
    "    'Start':start_date,\n",
    "    'End':end_date\n",
    "},Metric='UNBLENDED_COST',Granularity='MONTHLY')"
   ]
  },
  {
   "cell_type": "code",
   "execution_count": null,
   "id": "d7e5f2d2",
   "metadata": {},
   "outputs": [],
   "source": [
    "result"
   ]
  },
  {
   "cell_type": "code",
   "execution_count": null,
   "id": "47a0e23f",
   "metadata": {},
   "outputs": [],
   "source": [
    "client = boto3.client('pricing', region_name='us-east-1')"
   ]
  },
  {
   "cell_type": "code",
   "execution_count": null,
   "id": "8b20773d",
   "metadata": {},
   "outputs": [],
   "source": [
    "paginator = client.get_paginator('describe_services')"
   ]
  },
  {
   "cell_type": "code",
   "execution_count": null,
   "id": "84f25bd5",
   "metadata": {},
   "outputs": [],
   "source": [
    "for page in paginator.paginate():\n",
    "    for service in page['Services']:\n",
    "        print(service['ServiceCode'])"
   ]
  },
  {
   "cell_type": "code",
   "execution_count": null,
   "id": "70751feb",
   "metadata": {},
   "outputs": [],
   "source": [
    "result = client.get_products(ServiceCode='AmazonS3',\n",
    "                            Filters=[\n",
    "                                {'Type':'TERM_MATCH',\n",
    "                                'Field':'regionCode',\n",
    "                                'Value':'us-east-1'}\n",
    "                            ])"
   ]
  },
  {
   "cell_type": "code",
   "execution_count": null,
   "id": "b14c3f5f",
   "metadata": {},
   "outputs": [],
   "source": [
    "result"
   ]
  },
  {
   "cell_type": "code",
   "execution_count": null,
   "id": "26b807f8",
   "metadata": {},
   "outputs": [],
   "source": []
  }
 ],
 "metadata": {
  "kernelspec": {
   "display_name": "Python 3 (ipykernel)",
   "language": "python",
   "name": "python3"
  },
  "language_info": {
   "codemirror_mode": {
    "name": "ipython",
    "version": 3
   },
   "file_extension": ".py",
   "mimetype": "text/x-python",
   "name": "python",
   "nbconvert_exporter": "python",
   "pygments_lexer": "ipython3",
   "version": "3.11.5"
  }
 },
 "nbformat": 4,
 "nbformat_minor": 5
}
