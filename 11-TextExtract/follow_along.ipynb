{
 "cells": [
  {
   "cell_type": "code",
   "execution_count": null,
   "id": "8c4b041c",
   "metadata": {},
   "outputs": [],
   "source": [
    "import boto3"
   ]
  },
  {
   "cell_type": "code",
   "execution_count": null,
   "id": "06074f6b",
   "metadata": {},
   "outputs": [],
   "source": [
    "textract_client = boto3.client('textract', region_name='us-east-1')"
   ]
  },
  {
   "cell_type": "code",
   "execution_count": null,
   "id": "c8e01fe3",
   "metadata": {},
   "outputs": [],
   "source": [
    "document_path = 'Test.pdf'"
   ]
  },
  {
   "cell_type": "code",
   "execution_count": null,
   "id": "c743cf5d",
   "metadata": {},
   "outputs": [],
   "source": [
    "response = textract_client.detect_document_text(\n",
    "    Document={'Bytes': open(document_path, 'rb').read()})"
   ]
  },
  {
   "cell_type": "code",
   "execution_count": null,
   "id": "8c30acc0",
   "metadata": {},
   "outputs": [],
   "source": [
    "response"
   ]
  },
  {
   "cell_type": "code",
   "execution_count": null,
   "id": "3b79c48a",
   "metadata": {},
   "outputs": [],
   "source": [
    "mytext = ''\n",
    "for item in response['Blocks']:\n",
    "    if item['BlockType'] in ['WORD']:\n",
    "        mytext += item['Text']+'\\n'"
   ]
  },
  {
   "cell_type": "code",
   "execution_count": null,
   "id": "f3cc0c03",
   "metadata": {},
   "outputs": [],
   "source": [
    "print(mytext)"
   ]
  },
  {
   "cell_type": "code",
   "execution_count": null,
   "id": "55f46ee3",
   "metadata": {},
   "outputs": [],
   "source": [
    "response = textract_client.analyze_document(Document={'Bytes': open(document_path, 'rb').read()},\n",
    "                                                     FeatureTypes=['QUERIES'],\n",
    "                                                     QueriesConfig={\n",
    "                                                         'Queries': [\n",
    "                                                             {'Text': 'What is the name of the 30 year old man?'}\n",
    "                                                         ]\n",
    "                                                     })"
   ]
  },
  {
   "cell_type": "code",
   "execution_count": null,
   "id": "fb08c9e2",
   "metadata": {},
   "outputs": [],
   "source": [
    "for block in response['Blocks']:\n",
    "    if block['BlockType'] == 'QUERY_RESULT':\n",
    "        print(block['Text'])"
   ]
  },
  {
   "cell_type": "code",
   "execution_count": null,
   "id": "2812e3ee",
   "metadata": {},
   "outputs": [],
   "source": []
  }
 ],
 "metadata": {
  "kernelspec": {
   "display_name": "Python 3 (ipykernel)",
   "language": "python",
   "name": "python3"
  },
  "language_info": {
   "codemirror_mode": {
    "name": "ipython",
    "version": 3
   },
   "file_extension": ".py",
   "mimetype": "text/x-python",
   "name": "python",
   "nbconvert_exporter": "python",
   "pygments_lexer": "ipython3",
   "version": "3.11.5"
  }
 },
 "nbformat": 4,
 "nbformat_minor": 5
}
