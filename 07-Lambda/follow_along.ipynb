{
 "cells": [
  {
   "cell_type": "code",
   "execution_count": null,
   "id": "2908f65f-9760-4540-9f12-089f1cf5c751",
   "metadata": {
    "tags": []
   },
   "outputs": [],
   "source": [
    "import boto3"
   ]
  },
  {
   "cell_type": "code",
   "execution_count": null,
   "id": "c352b82a-af9f-4594-8406-f149050add0a",
   "metadata": {
    "tags": []
   },
   "outputs": [],
   "source": [
    "with open('hello.py', 'r') as f:\n",
    "          function_code = f.read()"
   ]
  },
  {
   "cell_type": "code",
   "execution_count": null,
   "id": "aeb39d08-77c9-4caf-aed8-a3efd1edd192",
   "metadata": {
    "tags": []
   },
   "outputs": [],
   "source": [
    "print(function_code)"
   ]
  },
  {
   "cell_type": "code",
   "execution_count": null,
   "id": "e5ab7f35-4cd8-4aeb-acf0-c8d30246a729",
   "metadata": {
    "tags": []
   },
   "outputs": [],
   "source": [
    "function_name = 'HelloWorld2'\n",
    "runtime = 'python3.8'\n",
    "handler = 'lambda_function.lambda_handler'"
   ]
  },
  {
   "cell_type": "code",
   "execution_count": null,
   "id": "c0c3c047-d3f9-4050-9d81-6093733f065b",
   "metadata": {
    "tags": []
   },
   "outputs": [],
   "source": [
    "import json\n",
    "iam_client = boto3.client('iam', region_name='ap-east-1')"
   ]
  },
  {
   "cell_type": "code",
   "execution_count": null,
   "id": "42a5d748-8820-4482-8dd6-3f5d298cf61a",
   "metadata": {
    "tags": []
   },
   "outputs": [],
   "source": [
    "lambda_execution_policy = {\n",
    "    'Version': '2012-10-17',\n",
    "    'Statement': [\n",
    "        {'Effect': 'Allow',\n",
    "         'Action': [\n",
    "             'logs:CreateLogGroup',\n",
    "             'logs:CreateLogStream',\n",
    "             'logs:PutLogEvents'\n",
    "         ],\n",
    "         'Resource': 'arn:aws:logs:*:*:*:*'\n",
    "        },\n",
    "    ]}"
   ]
  },
  {
   "cell_type": "code",
   "execution_count": null,
   "id": "1d24c192-e1cc-4e9b-8fc9-beb782ab7d41",
   "metadata": {
    "tags": []
   },
   "outputs": [],
   "source": [
    "role_name = 'LambdaExecutionRole'"
   ]
  },
  {
   "cell_type": "code",
   "execution_count": null,
   "id": "783e4ee8-6886-428a-be6f-f2e3b1fce36a",
   "metadata": {
    "tags": []
   },
   "outputs": [],
   "source": [
    "role_response = iam_client.create_role(RoleName=role_name,\n",
    "                                       AssumeRolePolicyDocument=json.dumps(\n",
    "                                           {'Version':'2012-10-17',\n",
    "                                            'Statement': [\n",
    "                                                {'Effect': 'Allow',\n",
    "                                                 'Principal': {'Service': 'lambda.amazonaws.com'},\n",
    "                                                 'Action': 'sts:AssumeRole'\n",
    "                                                }\n",
    "                                            ]\n",
    "                                           }\n",
    "                                       )\n",
    "                                      )"
   ]
  },
  {
   "cell_type": "code",
   "execution_count": null,
   "id": "01ec7dd2-76d0-48d1-8baf-923ad75265ab",
   "metadata": {
    "tags": []
   },
   "outputs": [],
   "source": [
    "policy_name = 'lambdaExecutionPolicy'"
   ]
  },
  {
   "cell_type": "code",
   "execution_count": null,
   "id": "a168f0fa-f582-4706-ba2c-4ce7968f9183",
   "metadata": {
    "tags": []
   },
   "outputs": [],
   "source": [
    "iam_client.put_role_policy(RoleName=role_name, PolicyName=policy_name, \n",
    "                           PolicyDocument=json.dumps(lambda_execution_policy))"
   ]
  },
  {
   "cell_type": "code",
   "execution_count": null,
   "id": "da7d1ee3-fafd-43cb-9ab5-b2ade8cada2f",
   "metadata": {
    "tags": []
   },
   "outputs": [],
   "source": [
    "role_arn = role_response['Role']['Arn']"
   ]
  },
  {
   "cell_type": "code",
   "execution_count": null,
   "id": "79bd580a-641c-4416-b5b0-5c88cfddfd0e",
   "metadata": {
    "tags": []
   },
   "outputs": [],
   "source": [
    "role_arn"
   ]
  },
  {
   "cell_type": "code",
   "execution_count": null,
   "id": "3efad241-c75a-4841-9715-324aaa49c6ca",
   "metadata": {
    "tags": []
   },
   "outputs": [],
   "source": [
    "import zipfile\n",
    "import io"
   ]
  },
  {
   "cell_type": "code",
   "execution_count": null,
   "id": "accffa13-fcf4-4a7b-9bb7-a2ceff7ef1f7",
   "metadata": {
    "tags": []
   },
   "outputs": [],
   "source": [
    "lambda_client = boto3.client('lambda', region_name='ap-east-1')"
   ]
  },
  {
   "cell_type": "code",
   "execution_count": null,
   "id": "6e70077f-2938-4bde-8f7e-8b7e986a3023",
   "metadata": {
    "tags": []
   },
   "outputs": [],
   "source": [
    "with io.BytesIO() as deployment_package:\n",
    "    with zipfile.ZipFile(deployment_package, 'w') as zipf:\n",
    "        zipf.writestr('lambda_function.py', function_code)\n",
    "        \n",
    "    create_function_response = lambda_client.create_function(\n",
    "        FunctionName=function_name,\n",
    "        Runtime=runtime,\n",
    "        Role=role_arn,\n",
    "        Handler=handler,\n",
    "        Code={'ZipFile': deployment_package.getvalue()})"
   ]
  },
  {
   "cell_type": "code",
   "execution_count": null,
   "id": "77470e0c-86d9-4a92-9bce-c010c8a9a8dd",
   "metadata": {
    "tags": []
   },
   "outputs": [],
   "source": [
    "invoke_response = lambda_client.invoke(FunctionName=function_name)"
   ]
  },
  {
   "cell_type": "code",
   "execution_count": null,
   "id": "4d212877-b149-4c5c-8211-3dff28e1f819",
   "metadata": {
    "tags": []
   },
   "outputs": [],
   "source": [
    "payload = invoke_response['Payload'].read()"
   ]
  },
  {
   "cell_type": "code",
   "execution_count": null,
   "id": "ebb8a966-2ef9-4c83-9e15-db1090597631",
   "metadata": {
    "tags": []
   },
   "outputs": [],
   "source": [
    "payload.decode('utf-8')"
   ]
  },
  {
   "cell_type": "code",
   "execution_count": null,
   "id": "87f52a98-0748-45c6-9819-2e7f015a23fd",
   "metadata": {
    "tags": []
   },
   "outputs": [],
   "source": [
    "lambda_client.delete_function(FunctionName=function_name)"
   ]
  },
  {
   "cell_type": "markdown",
   "id": "c8387072-f528-41e3-b6e4-1f699be50ee3",
   "metadata": {
    "tags": []
   },
   "source": [
    "# Lambda Function on AWS -> File uploaded to S3 --> Print the New File (Triggered)"
   ]
  },
  {
   "cell_type": "code",
   "execution_count": null,
   "id": "a0511d3d-5576-4f3e-a796-c2121caae28f",
   "metadata": {
    "tags": []
   },
   "outputs": [],
   "source": [
    "function_name = 'LambdaTrigger'\n",
    "runtime = 'python3.8'\n",
    "handler = 'lambda_function.lambda_trigger'"
   ]
  },
  {
   "cell_type": "markdown",
   "id": "4fd854e6-c777-4a16-b21b-e5b90a00270d",
   "metadata": {},
   "source": [
    "# ROLE -> Policy -> Rules/Permissions"
   ]
  },
  {
   "cell_type": "code",
   "execution_count": null,
   "id": "1068cdc5-7f53-4402-a10d-983605f6d55e",
   "metadata": {
    "tags": []
   },
   "outputs": [],
   "source": [
    "# policy_name was CourseLambdaTriggerPoloicy\n",
    "# role -> CourseLambdaExecutionRoleTrigger"
   ]
  },
  {
   "cell_type": "code",
   "execution_count": null,
   "id": "4d0c8eb3-16a9-4396-b24a-718c1ced25b6",
   "metadata": {
    "tags": []
   },
   "outputs": [],
   "source": [
    "role_arn = 'arn:aws:iam::339713179183:role/CourseLambdaExecutionRoleTrigger'"
   ]
  },
  {
   "cell_type": "code",
   "execution_count": null,
   "id": "c6cb5ab7-8857-4fd5-abbf-efab3280dea1",
   "metadata": {
    "tags": []
   },
   "outputs": [],
   "source": [
    "with open('trigger.py', 'r') as f:\n",
    "    function_code = f.read()"
   ]
  },
  {
   "cell_type": "code",
   "execution_count": null,
   "id": "ed88970c-1744-4a51-882d-28c55730b702",
   "metadata": {
    "tags": []
   },
   "outputs": [],
   "source": [
    "print(function_code)"
   ]
  },
  {
   "cell_type": "code",
   "execution_count": null,
   "id": "2f0f197e-782e-45e4-be67-464838bc20e8",
   "metadata": {
    "tags": []
   },
   "outputs": [],
   "source": [
    "with io.BytesIO() as deployment_package:\n",
    "    with zipfile.ZipFile(deployment_package, 'w') as zipf:\n",
    "        zipf.writestr('lambda_function.py', function_code)\n",
    "    \n",
    "    create_function_response = lambda_client.create_function(\n",
    "        FunctionName=function_name,\n",
    "        Runtime=runtime,\n",
    "        Role=role_arn,\n",
    "        Handler=handler,\n",
    "        Code={'ZipFile': deployment_package.getvalue()})"
   ]
  },
  {
   "cell_type": "code",
   "execution_count": null,
   "id": "34644c9d-4bb6-40fe-a613-5259c340b875",
   "metadata": {
    "tags": []
   },
   "outputs": [],
   "source": [
    "s3_client = boto3.client('s3', region_name='ap-east-1')\n",
    "bucket_name = 'course-test-trigger-sp-new'\n",
    "s3_client.create_bucket(Bucket=bucket_name,\n",
    "                       CreateBucketConfiguration={'LocationConstraint': 'ap-east-1'})"
   ]
  },
  {
   "cell_type": "code",
   "execution_count": null,
   "id": "c6947913-22b1-4b43-8b57-a2d1ce4bd9c1",
   "metadata": {
    "tags": []
   },
   "outputs": [],
   "source": [
    "create_function_response['FunctionArn']"
   ]
  },
  {
   "cell_type": "code",
   "execution_count": null,
   "id": "59c2a436-1636-4a04-ae42-49bedfab4c0d",
   "metadata": {
    "tags": []
   },
   "outputs": [],
   "source": [
    "bucket_arn = 'arn:aws:s3:::course-test-trigger-sp-new'"
   ]
  },
  {
   "cell_type": "code",
   "execution_count": null,
   "id": "ba64aef5-c91f-45ae-85f2-c5b3d2620ad9",
   "metadata": {
    "tags": []
   },
   "outputs": [],
   "source": [
    "lambda_client.add_permission(FunctionName=function_name, StatementId='ID1',\n",
    "                             Action='lambda:InvokeFunction',\n",
    "                             Principal='s3.amazonaws.com',\n",
    "                             SourceArn=bucket_arn)"
   ]
  },
  {
   "cell_type": "code",
   "execution_count": null,
   "id": "420b68ef-e5a8-406d-88c4-fec9249c8465",
   "metadata": {
    "tags": []
   },
   "outputs": [],
   "source": [
    "event_configuration = {\n",
    "    'LambdaFunctionConfigurations': [\n",
    "        {'LambdaFunctionArn': create_function_response['FunctionArn'],\n",
    "         'Events': ['s3:ObjectCreated:*']\n",
    "        }]\n",
    "}"
   ]
  },
  {
   "cell_type": "code",
   "execution_count": null,
   "id": "4dd3fbd1-3214-42e9-a709-466307e812e4",
   "metadata": {
    "tags": []
   },
   "outputs": [],
   "source": [
    "s3_client.put_bucket_notification_configuration(Bucket=bucket_name,\n",
    "                                                NotificationConfiguration=event_configuration\n",
    "                                               )"
   ]
  },
  {
   "cell_type": "code",
   "execution_count": null,
   "id": "ec784d5d-55bc-4a70-98ff-f55d5b112804",
   "metadata": {
    "tags": []
   },
   "outputs": [],
   "source": [
    "with open('Test_file.txt', 'w') as file:\n",
    "          file.write('This is a trigger test')"
   ]
  },
  {
   "cell_type": "code",
   "execution_count": null,
   "id": "a3a2db47-ee50-4e58-9f4c-965c57f24b61",
   "metadata": {
    "tags": []
   },
   "outputs": [],
   "source": [
    "s3_client.upload_file(Filename='Test_file.txt', Bucket=bucket_name, Key='Test_file.txt')"
   ]
  },
  {
   "cell_type": "code",
   "execution_count": null,
   "id": "1d945c6c-bfb8-44c5-87ac-af1c32ca82b4",
   "metadata": {
    "tags": []
   },
   "outputs": [],
   "source": [
    "cloudwatch_logs = boto3.client('logs', region_name='ap-east-1')"
   ]
  },
  {
   "cell_type": "code",
   "execution_count": null,
   "id": "b9dca083-2383-490e-ae56-3eb7c892d873",
   "metadata": {
    "tags": []
   },
   "outputs": [],
   "source": [
    "response = cloudwatch_logs.describe_log_groups()"
   ]
  },
  {
   "cell_type": "code",
   "execution_count": null,
   "id": "93db9a48-06c2-4448-9d31-0c132daca215",
   "metadata": {
    "tags": []
   },
   "outputs": [],
   "source": [
    "log_streams = cloudwatch_logs.describe_log_streams(logGroupName=f'/aws/lambda/{function_name}',\n",
    "                                                  orderBy='LastEventTime',\n",
    "                                                  descending=True)['logStreams']"
   ]
  },
  {
   "cell_type": "code",
   "execution_count": null,
   "id": "cd5eae91-b584-40d0-92d9-9572f45a0ff7",
   "metadata": {
    "tags": []
   },
   "outputs": [],
   "source": [
    "cloudwatch_logs.get_log_events(logGroupName=f'/aws/lambda/{function_name}',\n",
    "                              logStreamName=log_streams[0]['logStreamName'])"
   ]
  },
  {
   "cell_type": "code",
   "execution_count": null,
   "id": "9fb12e33-762d-477d-9757-4684a93992e1",
   "metadata": {
    "tags": []
   },
   "outputs": [],
   "source": [
    "lambda_client.delete_function(FunctionName=function_name)"
   ]
  },
  {
   "cell_type": "code",
   "execution_count": null,
   "id": "821ea79a-087d-4efe-b09c-4ee738020098",
   "metadata": {},
   "outputs": [],
   "source": []
  }
 ],
 "metadata": {
  "kernelspec": {
   "display_name": "Python 3 (ipykernel)",
   "language": "python",
   "name": "python3"
  },
  "language_info": {
   "codemirror_mode": {
    "name": "ipython",
    "version": 3
   },
   "file_extension": ".py",
   "mimetype": "text/x-python",
   "name": "python",
   "nbconvert_exporter": "python",
   "pygments_lexer": "ipython3",
   "version": "3.11.5"
  }
 },
 "nbformat": 4,
 "nbformat_minor": 5
}
