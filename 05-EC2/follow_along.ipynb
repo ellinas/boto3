{
 "cells": [
  {
   "cell_type": "code",
   "execution_count": null,
   "id": "6ed8b1a2",
   "metadata": {},
   "outputs": [],
   "source": [
    "import boto3"
   ]
  },
  {
   "cell_type": "code",
   "execution_count": null,
   "id": "537253ec",
   "metadata": {},
   "outputs": [],
   "source": [
    "ec2 = boto3.resource('ec2')"
   ]
  },
  {
   "cell_type": "code",
   "execution_count": null,
   "id": "9c4db27b",
   "metadata": {},
   "outputs": [],
   "source": [
    "instance = ec2.create_instances(\n",
    "MinCount=1,\n",
    "MaxCount=1,\n",
    "InstanceType='t3.micro',\n",
    "ImageId='ami-0c06d80a037a63ae0'\n",
    ")"
   ]
  },
  {
   "cell_type": "code",
   "execution_count": null,
   "id": "2826db50",
   "metadata": {},
   "outputs": [],
   "source": [
    "instance"
   ]
  },
  {
   "cell_type": "code",
   "execution_count": null,
   "id": "f2b1742b",
   "metadata": {},
   "outputs": [],
   "source": [
    "list(ec2.instances.all())"
   ]
  },
  {
   "cell_type": "code",
   "execution_count": null,
   "id": "85e5c19d",
   "metadata": {},
   "outputs": [],
   "source": [
    "client = boto3.client('ec2')\n",
    "description = client.describe_instances(InstanceIds=['i-050efbbeb8b9eb329'])"
   ]
  },
  {
   "cell_type": "code",
   "execution_count": null,
   "id": "f4629b96",
   "metadata": {},
   "outputs": [],
   "source": [
    "description['Reservations'][0]['Instances'][0]['State']"
   ]
  },
  {
   "cell_type": "code",
   "execution_count": null,
   "id": "750a4284",
   "metadata": {},
   "outputs": [],
   "source": [
    "client.stop_instances(InstanceIds=['i-050efbbeb8b9eb329'])"
   ]
  },
  {
   "cell_type": "code",
   "execution_count": null,
   "id": "18984649",
   "metadata": {},
   "outputs": [],
   "source": [
    "description = client.describe_instances(InstanceIds=['i-050efbbeb8b9eb329'])\n",
    "description['Reservations'][0]['Instances'][0]['State']"
   ]
  },
  {
   "cell_type": "code",
   "execution_count": null,
   "id": "9e5602b8",
   "metadata": {},
   "outputs": [],
   "source": [
    "client.start_instances(InstanceIds=['i-050efbbeb8b9eb329'])"
   ]
  },
  {
   "cell_type": "code",
   "execution_count": null,
   "id": "a8dd7abc",
   "metadata": {},
   "outputs": [],
   "source": [
    "client.terminate_instances(InstanceIds=['i-050efbbeb8b9eb329'])"
   ]
  },
  {
   "cell_type": "code",
   "execution_count": null,
   "id": "7bb52cc9",
   "metadata": {},
   "outputs": [],
   "source": [
    "key_pair = client.create_key_pair(KeyName='new-course-keypair')"
   ]
  },
  {
   "cell_type": "code",
   "execution_count": null,
   "id": "43123153",
   "metadata": {},
   "outputs": [],
   "source": [
    "private_key = key_pair['KeyMaterial']"
   ]
  },
  {
   "cell_type": "code",
   "execution_count": null,
   "id": "5508e1e7",
   "metadata": {},
   "outputs": [],
   "source": [
    "with open('my-key-pair.pem','w') as f:\n",
    "    f.write(private_key)"
   ]
  },
  {
   "cell_type": "code",
   "execution_count": null,
   "id": "f58ab627",
   "metadata": {},
   "outputs": [],
   "source": [
    "security_groups = client.describe_security_groups()"
   ]
  },
  {
   "cell_type": "code",
   "execution_count": null,
   "id": "8b363f9f",
   "metadata": {},
   "outputs": [],
   "source": [
    "security_groups['SecurityGroups']"
   ]
  },
  {
   "cell_type": "code",
   "execution_count": null,
   "id": "4958df45",
   "metadata": {},
   "outputs": [],
   "source": [
    "ec2 = boto3.resource('ec2')"
   ]
  },
  {
   "cell_type": "code",
   "execution_count": null,
   "id": "88493cca",
   "metadata": {},
   "outputs": [],
   "source": [
    "instance = ec2.create_instances(\n",
    "    MinCount=1,\n",
    "    MaxCount=1,\n",
    "    InstanceType='t3.micro',\n",
    "    ImageId='ami-0c06d80a037a63ae0',\n",
    "    KeyName='new-course-keypair',\n",
    "    SecurityGroupIds=['sg-0012e254af03f1cea']\n",
    ")"
   ]
  },
  {
   "cell_type": "code",
   "execution_count": null,
   "id": "53250967",
   "metadata": {},
   "outputs": [],
   "source": [
    "import paramiko"
   ]
  },
  {
   "cell_type": "code",
   "execution_count": null,
   "id": "b1dbf86b",
   "metadata": {},
   "outputs": [],
   "source": [
    "ssh = paramiko.SSHClient()"
   ]
  },
  {
   "cell_type": "code",
   "execution_count": null,
   "id": "52273c73",
   "metadata": {},
   "outputs": [],
   "source": [
    "ssh.set_missing_host_key_policy(paramiko.AutoAddPolicy())"
   ]
  },
  {
   "cell_type": "code",
   "execution_count": null,
   "id": "3ea13d91",
   "metadata": {},
   "outputs": [],
   "source": [
    "private_key = paramiko.RSAKey(filename='my-key-pair.pem')"
   ]
  },
  {
   "cell_type": "code",
   "execution_count": null,
   "id": "554c1844",
   "metadata": {},
   "outputs": [],
   "source": [
    "instance"
   ]
  },
  {
   "cell_type": "code",
   "execution_count": null,
   "id": "7fd17e71",
   "metadata": {},
   "outputs": [],
   "source": [
    "description = client.describe_instances(InstanceIds=['i-0c02f3e3ebb18a599'])"
   ]
  },
  {
   "cell_type": "code",
   "execution_count": null,
   "id": "a6355dc7",
   "metadata": {},
   "outputs": [],
   "source": [
    "ip = description['Reservations'][0]['Instances'][0]['PublicIpAddress']"
   ]
  },
  {
   "cell_type": "code",
   "execution_count": null,
   "id": "997d85da",
   "metadata": {},
   "outputs": [],
   "source": [
    "ssh.connect(hostname=ip,username='ec2-user',pkey=private_key)"
   ]
  },
  {
   "cell_type": "code",
   "execution_count": null,
   "id": "7334aaa9",
   "metadata": {},
   "outputs": [],
   "source": [
    "ip"
   ]
  },
  {
   "cell_type": "code",
   "execution_count": null,
   "id": "7a4f4200",
   "metadata": {},
   "outputs": [],
   "source": [
    "stdin, stdout, stderr = ssh.exec_command('ls')"
   ]
  },
  {
   "cell_type": "code",
   "execution_count": null,
   "id": "104bb63d",
   "metadata": {},
   "outputs": [],
   "source": [
    "stdout.read()"
   ]
  },
  {
   "cell_type": "code",
   "execution_count": null,
   "id": "7b78547d",
   "metadata": {},
   "outputs": [],
   "source": []
  }
 ],
 "metadata": {
  "kernelspec": {
   "display_name": "Python 3 (ipykernel)",
   "language": "python",
   "name": "python3"
  },
  "language_info": {
   "codemirror_mode": {
    "name": "ipython",
    "version": 3
   },
   "file_extension": ".py",
   "mimetype": "text/x-python",
   "name": "python",
   "nbconvert_exporter": "python",
   "pygments_lexer": "ipython3",
   "version": "3.9.12"
  }
 },
 "nbformat": 4,
 "nbformat_minor": 5
}
