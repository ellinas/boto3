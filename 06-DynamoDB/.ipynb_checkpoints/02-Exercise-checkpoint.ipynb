{
 "cells": [
  {
   "cell_type": "markdown",
   "id": "ab216909-ba55-4869-b076-a554b4d142ce",
   "metadata": {},
   "source": [
    "![https://pieriantraining.com/](../PTCenteredPurple.png)"
   ]
  },
  {
   "cell_type": "markdown",
   "id": "d47ff660-78be-4d7f-84b1-18032041ed9f",
   "metadata": {},
   "source": [
    "In this exercise, you are going to create a database using the [Netflix Movies and TV Shows](https://www.kaggle.com/datasets/shivamb/netflix-shows?resource=download).\n",
    "\n",
    "You can find the csv file in this directory (netflix_titles.csv)"
   ]
  },
  {
   "cell_type": "code",
   "execution_count": null,
   "id": "2da79cb5-bde3-4c30-b59f-d0e69d6eafe9",
   "metadata": {},
   "outputs": [],
   "source": [
    "with open(\"netflix_titles.csv\", \"r\") as f:\n",
    "    lines = f.readlines()"
   ]
  },
  {
   "cell_type": "code",
   "execution_count": null,
   "id": "2933de7e-8f5e-4bad-9331-b4ec94e7ef94",
   "metadata": {},
   "outputs": [],
   "source": [
    "lines[:5]"
   ]
  },
  {
   "cell_type": "markdown",
   "id": "9cca596a-7e29-4f29-b7c9-04f62ec44b28",
   "metadata": {},
   "source": [
    "**Task:** Create the table attributes and its schema. Use **show_id** as the partition key and **release_year** as range key.\n",
    "Use *10* for both, read and write capacity units"
   ]
  },
  {
   "cell_type": "code",
   "execution_count": null,
   "id": "29705abe-610d-494f-84ca-beea226ab37c",
   "metadata": {},
   "outputs": [],
   "source": [
    "import boto3\n",
    "client = boto3.client('dynamodb',region_name='ap-east-1')"
   ]
  },
  {
   "cell_type": "code",
   "execution_count": null,
   "id": "60599a1a",
   "metadata": {},
   "outputs": [],
   "source": [
    "table_name= 'Media'"
   ]
  },
  {
   "cell_type": "code",
   "execution_count": null,
   "id": "e41a44fe",
   "metadata": {},
   "outputs": [],
   "source": [
    "attributes = [\n",
    "    {\n",
    "        'AttributeName':'show_id',\n",
    "        'AttributeType': 'S'\n",
    "    },\n",
    "    {\n",
    "        'AttributeName':'country',\n",
    "        'AttributeType': 'S'\n",
    "    },\n",
    "    {\n",
    "        'AttributeName':'release_year',\n",
    "        'AttributeType': 'N'\n",
    "    }\n",
    "]"
   ]
  },
  {
   "cell_type": "code",
   "execution_count": null,
   "id": "8ccca8a3",
   "metadata": {},
   "outputs": [],
   "source": [
    "key_schema = [\n",
    "    {\n",
    "        'AttributeName':'show_id',\n",
    "        'KeyType':'HASH'\n",
    "    },\n",
    "    {\n",
    "        'AttributeName': 'release_year',\n",
    "        'KeyType':'RANGE'\n",
    "    }\n",
    "]"
   ]
  },
  {
   "cell_type": "code",
   "execution_count": null,
   "id": "30f2eec5",
   "metadata": {},
   "outputs": [],
   "source": [
    "provisioned_throughput = {\n",
    "    'ReadCapacityUnits':10,\n",
    "    'WriteCapacityUnits':10\n",
    "}"
   ]
  },
  {
   "cell_type": "code",
   "execution_count": null,
   "id": "1e2ace38",
   "metadata": {},
   "outputs": [],
   "source": [
    "gsi_key_schema = [\n",
    "    {\n",
    "        'AttributeName':'country',\n",
    "        'KeyType':'HASH'\n",
    "    }\n",
    "]"
   ]
  },
  {
   "cell_type": "code",
   "execution_count": null,
   "id": "89dc1ac6",
   "metadata": {},
   "outputs": [],
   "source": [
    "gsi_provisioned_throughput = {\n",
    "    'ReadCapacityUnits':10,\n",
    "    'WriteCapacityUnits':10\n",
    "}"
   ]
  },
  {
   "cell_type": "markdown",
   "id": "c7a90910-6ea6-4559-b358-71eea6eb0fce",
   "metadata": {},
   "source": [
    "We want to use a [Global Secondary Index](https://docs.aws.amazon.com/amazondynamodb/latest/developerguide/GSI.html#GSI.scenario), to be able to query for the Country ([Doc](https://boto3.amazonaws.com/v1/documentation/api/latest/reference/services/dynamodb/client/create_table.html#:~:text=(string)%20%E2%80%93-,GlobalSecondaryIndexes,-(list)%20%E2%80%93))\n",
    "\n",
    "**Task:** Create the Table with above schema and the secondary index\n"
   ]
  },
  {
   "cell_type": "code",
   "execution_count": null,
   "id": "1da90cd6-8f2d-49cf-b17e-478e539e8f8e",
   "metadata": {},
   "outputs": [],
   "source": [
    "response = client.create_table(TableName=table_name,\n",
    "                              AttributeDefinitions=attributes,\n",
    "                              KeySchema=key_schema,\n",
    "                              ProvisionedThroughput=provisioned_throughput,\n",
    "                              GlobalSecondaryIndexes=[\n",
    "                                {\n",
    "                                    'IndexName': 'idx1',\n",
    "                                    'KeySchema':gsi_key_schema,\n",
    "                                    'Projection':{\n",
    "                                        'ProjectionType': 'ALL'\n",
    "                                    },\n",
    "                                    'ProvisionedThroughput':gsi_provisioned_throughput\n",
    "                                    }\n",
    "                               ])"
   ]
  },
  {
   "cell_type": "markdown",
   "id": "5a58c9a3-60a9-43ce-b3d3-319011391885",
   "metadata": {},
   "source": [
    "**Task:** Read the data from the csv file to a list of dictionaries"
   ]
  },
  {
   "cell_type": "code",
   "execution_count": null,
   "id": "bc727e2a-b4e4-4115-a81f-5390dd0fdd3e",
   "metadata": {},
   "outputs": [],
   "source": [
    "\n",
    "import csv\n",
    " \n",
    "# Open the CSV file for reading\n",
    "with open('netflix_titles.csv', mode='r') as file:\n",
    "    # Create a CSV reader with DictReader\n",
    "    csv_reader = csv.DictReader(file)\n",
    " \n",
    "    # Initialize an empty list to store the dictionaries\n",
    "    data_list = []\n",
    " \n",
    "    # Iterate through each row in the CSV file\n",
    "    for row in csv_reader:\n",
    "        # Append each row (as a dictionary) to the list\n",
    "        data_list.append(row)\n",
    " \n",
    "# Print the list of dictionaries\n",
    "for data in data_list:\n",
    "    print(data)"
   ]
  },
  {
   "cell_type": "markdown",
   "id": "8cea79e0-8515-4c7f-950d-d8b57cd61b7c",
   "metadata": {},
   "source": [
    "**Task:** Create the batch requests to upload the data. Note, that batch requests can only handle 25 items at once. Add the data types according to the elements."
   ]
  },
  {
   "cell_type": "code",
   "execution_count": null,
   "id": "58b68051-0b1b-467b-8f8d-0c750d246ef7",
   "metadata": {},
   "outputs": [],
   "source": [
    "items_to_upload = []\n",
    "for item in data_list:\n",
    "    put_request = {'PutRequest':{'Item':{}}}\n",
    "    \n",
    "    for key,value in item.items():\n",
    "        \n",
    "        if not value:\n",
    "            value='None'\n",
    "        try:\n",
    "            float(value)\n",
    "            put_request['PutRequest']['Item'][key] = {'N':value}\n",
    "        except ValueError:\n",
    "            put_request['PutRequest']['Item'][key] = {'S':value}\n",
    "    \n",
    "    items_to_upload.append(put_request)\n",
    "    \n",
    "    if len(items_to_upload) == 25:\n",
    "        response = client.batch_write_item(RequestItems={\n",
    "            table_name:items_to_upload\n",
    "        })\n",
    "        items_to_upload = []"
   ]
  },
  {
   "cell_type": "markdown",
   "id": "a8f41ce3-4cf1-4899-9b36-49de0aff9280",
   "metadata": {},
   "source": [
    "As we set ProvisionedThroughput to a low value of 10 this might take a while as aws throttels the writing operations (but is very cheap)"
   ]
  },
  {
   "cell_type": "markdown",
   "id": "ffa929d7-ef17-4b48-b845-0fee23c991b1",
   "metadata": {},
   "source": [
    "**Task:** What is the name of the show with show id 10"
   ]
  },
  {
   "cell_type": "code",
   "execution_count": null,
   "id": "745c0f95-0896-45b2-8ac5-547e27719aa4",
   "metadata": {},
   "outputs": [],
   "source": [
    "response = client.query(TableName='Media',\n",
    "                       KeyConditionExpression='show_id = :id',\n",
    "                       ExpressionAttributeValues={':id':{'S':'s10'}})\n",
    "response['Items'][0]['title']"
   ]
  },
  {
   "cell_type": "markdown",
   "id": "942909d5-9c1b-45c7-bd2c-5865551586e0",
   "metadata": {},
   "source": [
    "**Task:** What shows are from Germany?<br />\n",
    "Hint: You need to pass IndexName to the query function"
   ]
  },
  {
   "cell_type": "code",
   "execution_count": null,
   "id": "a7a7736e-ad4b-4853-903e-792cf5e0d56d",
   "metadata": {},
   "outputs": [],
   "source": [
    "response = client.query(TableName='Media',\n",
    "                       KeyConditionExpression='country = :co',\n",
    "                       IndexName='idx1',\n",
    "                       ExpressionAttributeValues={':co':{'S':'Germany'}})\n",
    "[item['title'] for item in response['Items']]"
   ]
  },
  {
   "cell_type": "markdown",
   "id": "dadbf874-b1be-4e0d-910c-ceb63342b2c8",
   "metadata": {},
   "source": [
    "**Task:** What shows are from India and from 2021 or later?"
   ]
  },
  {
   "cell_type": "code",
   "execution_count": null,
   "id": "06e23320-20a1-4d73-9e8d-41cbd1299296",
   "metadata": {},
   "outputs": [],
   "source": [
    "items = []\n",
    "response = client.scan(TableName='Media',\n",
    "                       FilterExpression='release_year >= :num AND country = :co',\n",
    "                       ExpressionAttributeValues={':co':{'S':'India'}, ':num':{'N':'2021'}})\n",
    "items.extend(response['Items'])\n",
    "[item['title'] for item in response['Items']]"
   ]
  },
  {
   "cell_type": "markdown",
   "id": "abf77507-4076-438a-b155-20588798db10",
   "metadata": {},
   "source": [
    "**Task:** Can you also perform this operation using a query?"
   ]
  },
  {
   "cell_type": "code",
   "execution_count": null,
   "id": "83292645",
   "metadata": {},
   "outputs": [],
   "source": [
    "No"
   ]
  },
  {
   "cell_type": "markdown",
   "id": "07622257-1de7-4ad5-966a-9bf3067fff6e",
   "metadata": {},
   "source": []
  },
  {
   "cell_type": "markdown",
   "id": "bfd5f232-2731-4c61-b952-b809c5942c5f",
   "metadata": {},
   "source": [
    "**Task:** Delete the table"
   ]
  },
  {
   "cell_type": "code",
   "execution_count": null,
   "id": "c3292e68-c92a-431b-9189-6ec569c5f95d",
   "metadata": {},
   "outputs": [],
   "source": [
    "client.delete_table(TableName=table_name)"
   ]
  }
 ],
 "metadata": {
  "kernelspec": {
   "display_name": "Python 3 (ipykernel)",
   "language": "python",
   "name": "python3"
  },
  "language_info": {
   "codemirror_mode": {
    "name": "ipython",
    "version": 3
   },
   "file_extension": ".py",
   "mimetype": "text/x-python",
   "name": "python",
   "nbconvert_exporter": "python",
   "pygments_lexer": "ipython3",
   "version": "3.9.12"
  }
 },
 "nbformat": 4,
 "nbformat_minor": 5
}
