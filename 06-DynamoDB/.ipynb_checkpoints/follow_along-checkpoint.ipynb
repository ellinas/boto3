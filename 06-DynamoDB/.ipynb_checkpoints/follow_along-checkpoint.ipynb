{
 "cells": [
  {
   "cell_type": "code",
   "execution_count": null,
   "id": "9003d100",
   "metadata": {},
   "outputs": [],
   "source": [
    "import boto3"
   ]
  },
  {
   "cell_type": "code",
   "execution_count": null,
   "id": "a387bb75",
   "metadata": {},
   "outputs": [],
   "source": [
    "client = boto3.client('dynamodb',region_name='ap-east-1')"
   ]
  },
  {
   "cell_type": "code",
   "execution_count": null,
   "id": "e0c75649",
   "metadata": {},
   "outputs": [],
   "source": [
    "table_name = 'Movies'"
   ]
  },
  {
   "cell_type": "code",
   "execution_count": null,
   "id": "f5e6e631",
   "metadata": {},
   "outputs": [],
   "source": [
    "attributes = [\n",
    "    {\n",
    "        'AttributeName':'Title',\n",
    "        'AttributeType': 'S'\n",
    "    },\n",
    "    {\n",
    "        'AttributeName':'Rating',\n",
    "        'AttributeType': 'N'\n",
    "    }\n",
    "]"
   ]
  },
  {
   "cell_type": "code",
   "execution_count": null,
   "id": "da91d0b5",
   "metadata": {},
   "outputs": [],
   "source": [
    "key_schema = [\n",
    "    {\n",
    "        'AttributeName':'Title',\n",
    "        'KeyType':'HASH'\n",
    "    },\n",
    "    {\n",
    "        'AttributeName': 'Rating',\n",
    "        'KeyType':'RANGE'\n",
    "    }\n",
    "]"
   ]
  },
  {
   "cell_type": "code",
   "execution_count": null,
   "id": "39aed85b",
   "metadata": {},
   "outputs": [],
   "source": [
    "provisioned_throughput = {\n",
    "    'ReadCapacityUnits':5,\n",
    "    'WriteCapacityUnits':5\n",
    "}"
   ]
  },
  {
   "cell_type": "code",
   "execution_count": null,
   "id": "9245a7d0",
   "metadata": {},
   "outputs": [],
   "source": [
    "response = client.create_table(TableName=table_name,\n",
    "                              AttributeDefinitions=attributes,\n",
    "                              KeySchema=key_schema,\n",
    "                              ProvisionedThroughput=provisioned_throughput\n",
    "                              )"
   ]
  },
  {
   "cell_type": "code",
   "execution_count": null,
   "id": "41b4aac1",
   "metadata": {},
   "outputs": [],
   "source": [
    "response"
   ]
  },
  {
   "cell_type": "code",
   "execution_count": null,
   "id": "16d95a6d",
   "metadata": {},
   "outputs": [],
   "source": [
    "entry = {'Title':{'S':'The Matrix'},\n",
    "        'Director':{'S':'Lana Wachowski'},\n",
    "        'Year':{'N':'1999'},\n",
    "        'Rating':{'N':'5'}\n",
    "        }"
   ]
  },
  {
   "cell_type": "code",
   "execution_count": null,
   "id": "d9b49ec7",
   "metadata": {},
   "outputs": [],
   "source": [
    "client.put_item(TableName='Movies',Item=entry)"
   ]
  },
  {
   "cell_type": "code",
   "execution_count": null,
   "id": "4e4258a5",
   "metadata": {},
   "outputs": [],
   "source": [
    "item_key = {'Title':{'S':'The Matrix'},\n",
    "        'Rating':{'N':'5'}\n",
    "        }"
   ]
  },
  {
   "cell_type": "code",
   "execution_count": null,
   "id": "20956d82",
   "metadata": {},
   "outputs": [],
   "source": [
    "response = client.get_item(TableName='Movies',Key=item_key)"
   ]
  },
  {
   "cell_type": "code",
   "execution_count": null,
   "id": "89c015ed",
   "metadata": {},
   "outputs": [],
   "source": [
    "response['Item']"
   ]
  },
  {
   "cell_type": "code",
   "execution_count": null,
   "id": "dc53db51",
   "metadata": {},
   "outputs": [],
   "source": [
    "update = 'SET Director = :r'"
   ]
  },
  {
   "cell_type": "code",
   "execution_count": null,
   "id": "49a34c93",
   "metadata": {},
   "outputs": [],
   "source": [
    "client.update_item(TableName='Movies',\n",
    "                  Key=item_key,\n",
    "                  UpdateExpression=update,\n",
    "                  ExpressionAttributeValues={':r':{'S':'Lana and Lilly Wachowski'}}\n",
    "                  )"
   ]
  },
  {
   "cell_type": "code",
   "execution_count": null,
   "id": "ec12280b",
   "metadata": {},
   "outputs": [],
   "source": [
    "client.delete_item(TableName='Movies',\n",
    "                  Key=item_key)"
   ]
  },
  {
   "cell_type": "code",
   "execution_count": null,
   "id": "552e45b4",
   "metadata": {},
   "outputs": [],
   "source": [
    "movies = [\n",
    "        {\"Title\": \"The Matrix\",\n",
    "         \"Director\": \"Lana Wachowski\",\n",
    "         \"Year\": \"1999\",\n",
    "         \"Rating\": \"4.7\"},\n",
    "    \n",
    "        {\"Title\": \"The Matrix 2\",\n",
    "             \"Director\": \"Lana Wachowski\",\n",
    "             \"Year\": \"2003\",\n",
    "             \"Rating\": \"4.6\"},\n",
    "\n",
    "        {\"Title\": \"The Matrix 3\",\n",
    "             \"Director\": \"Lana Wachowski\",\n",
    "             \"Year\": \"2003\",\n",
    "             \"Rating\": \"4.5\"},\n",
    "\n",
    "        {\"Title\": \"Inception\",\n",
    "             \"Director\": \"Christopher Nolan\",\n",
    "             \"Year\": \"2010\",\n",
    "             \"Rating\": \"4.6\"},\n",
    "    \n",
    "        {\"Title\": \"Saving Private Ryan\",\n",
    "             \"Director\": \"Steven Spielberg\",\n",
    "             \"Year\": \"1999\",\n",
    "             \"Rating\": \"4.7\"},\n",
    "\n",
    "]"
   ]
  },
  {
   "cell_type": "code",
   "execution_count": null,
   "id": "d62ef182",
   "metadata": {},
   "outputs": [],
   "source": [
    "batch_request = []\n",
    "\n",
    "for movie in movies:\n",
    "    batch_request.append({\n",
    "        'PutRequest':{\n",
    "            'Item':{\n",
    "                'Title':{'S':movie['Title']},\n",
    "                'Rating':{'N':str(movie['Rating'])},\n",
    "                'Director':{'S':movie['Director']},\n",
    "                'Year':{'N':str(movie['Year'])}\n",
    "            }\n",
    "        }\n",
    "    })"
   ]
  },
  {
   "cell_type": "code",
   "execution_count": null,
   "id": "bd8506e3",
   "metadata": {},
   "outputs": [],
   "source": [
    "batch_request"
   ]
  },
  {
   "cell_type": "code",
   "execution_count": null,
   "id": "d82d6e2b",
   "metadata": {},
   "outputs": [],
   "source": [
    "response = client.batch_write_item(RequestItems={'Movies':batch_request})"
   ]
  },
  {
   "cell_type": "code",
   "execution_count": null,
   "id": "85e085b2",
   "metadata": {},
   "outputs": [],
   "source": [
    "response"
   ]
  },
  {
   "cell_type": "code",
   "execution_count": null,
   "id": "1ac10d53",
   "metadata": {},
   "outputs": [],
   "source": [
    "batch_request_2 = {\"Keys\": []}\n",
    "for movie in movies:\n",
    "    batch_request_2[\"Keys\"].append({\n",
    "            'Title': {'S': movie['Title']},\n",
    "            'Rating': {'N': str(movie['Rating'])},\n",
    "        }\n",
    "    )"
   ]
  },
  {
   "cell_type": "code",
   "execution_count": null,
   "id": "ff34656e",
   "metadata": {},
   "outputs": [],
   "source": [
    "batch_request_2"
   ]
  },
  {
   "cell_type": "code",
   "execution_count": null,
   "id": "21890e43",
   "metadata": {},
   "outputs": [],
   "source": [
    "client.batch_get_item(RequestItems={'Movies':batch_request_2})"
   ]
  },
  {
   "cell_type": "code",
   "execution_count": null,
   "id": "9cba49cd",
   "metadata": {},
   "outputs": [],
   "source": [
    "items = []\n",
    "response = client.scan(TableName='Movies')\n",
    "items.extend(response['Items'])\n",
    "\n",
    "while \"LastEvaluatedKey\" in response.keys():\n",
    "    response = client.scan(TableName='Movies',ExclusiveStartKey=response['LastEvaluatedKey'])\n",
    "    items.extend(response['Items'])"
   ]
  },
  {
   "cell_type": "code",
   "execution_count": null,
   "id": "6d2e296e",
   "metadata": {},
   "outputs": [],
   "source": [
    "items"
   ]
  },
  {
   "cell_type": "code",
   "execution_count": null,
   "id": "f1ebcd4f",
   "metadata": {},
   "outputs": [],
   "source": [
    "client.scan(TableName='Movies',\n",
    "           FilterExpression='Rating >= :num',\n",
    "           ExpressionAttributeValues={':num':{'N':'4.7'}})"
   ]
  },
  {
   "cell_type": "code",
   "execution_count": null,
   "id": "1ab5a70b",
   "metadata": {},
   "outputs": [],
   "source": [
    "dynamodb = boto3.resource('dynamodb',region_name='ap-east-1')\n",
    "table = dynamodb.Table('Movies')"
   ]
  },
  {
   "cell_type": "code",
   "execution_count": null,
   "id": "e63f74e2",
   "metadata": {},
   "outputs": [],
   "source": [
    "from boto3.dynamodb.conditions import Key, Attr"
   ]
  },
  {
   "cell_type": "code",
   "execution_count": null,
   "id": "95e84a74",
   "metadata": {},
   "outputs": [],
   "source": [
    "dir(Attr)"
   ]
  },
  {
   "cell_type": "code",
   "execution_count": null,
   "id": "8544ca3f",
   "metadata": {},
   "outputs": [],
   "source": [
    "from decimal import Decimal\n",
    "table.scan(FilterExpression=Attr(\"Rating\").gte(Decimal(4.5)))"
   ]
  },
  {
   "cell_type": "code",
   "execution_count": null,
   "id": "08f0efd4",
   "metadata": {},
   "outputs": [],
   "source": [
    "table.key_schema"
   ]
  },
  {
   "cell_type": "code",
   "execution_count": null,
   "id": "539761a9",
   "metadata": {},
   "outputs": [],
   "source": [
    "client.describe_table(TableName='Movies')"
   ]
  },
  {
   "cell_type": "code",
   "execution_count": null,
   "id": "d0e9138b",
   "metadata": {},
   "outputs": [],
   "source": [
    "attributes"
   ]
  },
  {
   "cell_type": "code",
   "execution_count": null,
   "id": "49925f56",
   "metadata": {},
   "outputs": [],
   "source": [
    "attributes.append({\"AttributeName\":\"Director\",'AttributeType':'S'})"
   ]
  },
  {
   "cell_type": "code",
   "execution_count": null,
   "id": "ed84107e",
   "metadata": {},
   "outputs": [],
   "source": [
    "attributes"
   ]
  },
  {
   "cell_type": "code",
   "execution_count": null,
   "id": "8be523bb",
   "metadata": {},
   "outputs": [],
   "source": [
    "gsi_key_schema = [\n",
    "    {\n",
    "        'AttributeName':'Director',\n",
    "        'KeyType':'HASH'\n",
    "    }\n",
    "]"
   ]
  },
  {
   "cell_type": "code",
   "execution_count": null,
   "id": "7ddad870",
   "metadata": {},
   "outputs": [],
   "source": [
    "gsi_provisioned_throughput = {\n",
    "    'ReadCapacityUnits':5,\n",
    "    'WriteCapacityUnits':5\n",
    "}"
   ]
  },
  {
   "cell_type": "code",
   "execution_count": null,
   "id": "6a5f24a6",
   "metadata": {},
   "outputs": [],
   "source": [
    "response = client.update_table(TableName='Movies',\n",
    "                              AttributeDefinitions=attributes,\n",
    "                              GlobalSecondaryIndexUpdates=[\n",
    "                                  {'Create':{\n",
    "                                      'IndexName':'idx1',\n",
    "                                      'KeySchema':gsi_key_schema,\n",
    "                                      'Projection':{\n",
    "                                          'ProjectionType':'ALL'\n",
    "                                      },\n",
    "                                      'ProvisionedThroughput':gsi_provisioned_throughput\n",
    "                                  }\n",
    "                                  }\n",
    "                              ])"
   ]
  },
  {
   "cell_type": "code",
   "execution_count": null,
   "id": "8ba038cf",
   "metadata": {},
   "outputs": [],
   "source": [
    "client.query(TableName='Movies',\n",
    "            KeyConditionExpression='Director = :d',\n",
    "            IndexName='idx1',\n",
    "            ExpressionAttributeValues={':d':{'S':'Steven Spielberg'}})"
   ]
  },
  {
   "cell_type": "code",
   "execution_count": null,
   "id": "c3930299",
   "metadata": {},
   "outputs": [],
   "source": []
  }
 ],
 "metadata": {
  "kernelspec": {
   "display_name": "Python 3 (ipykernel)",
   "language": "python",
   "name": "python3"
  },
  "language_info": {
   "codemirror_mode": {
    "name": "ipython",
    "version": 3
   },
   "file_extension": ".py",
   "mimetype": "text/x-python",
   "name": "python",
   "nbconvert_exporter": "python",
   "pygments_lexer": "ipython3",
   "version": "3.9.12"
  }
 },
 "nbformat": 4,
 "nbformat_minor": 5
}
